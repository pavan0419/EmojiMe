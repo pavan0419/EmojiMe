{
  "nbformat": 4,
  "nbformat_minor": 0,
  "metadata": {
    "colab": {
      "provenance": [],
      "gpuType": "T4",
      "mount_file_id": "1kn7whwM8tYvxmqb-yFsk_FBclKzU5Fa6",
      "authorship_tag": "ABX9TyMJgRtgy9+l69Rp+bwNTLoj",
      "include_colab_link": true
    },
    "kernelspec": {
      "name": "python3",
      "display_name": "Python 3"
    },
    "language_info": {
      "name": "python"
    },
    "accelerator": "GPU"
  },
  "cells": [
    {
      "cell_type": "markdown",
      "metadata": {
        "id": "view-in-github",
        "colab_type": "text"
      },
      "source": [
        "<a href=\"https://colab.research.google.com/github/pavan0419/EmojiMe/blob/main/EmojiMe.ipynb\" target=\"_parent\"><img src=\"https://colab.research.google.com/assets/colab-badge.svg\" alt=\"Open In Colab\"/></a>"
      ]
    },
    {
      "cell_type": "code",
      "source": [
        "import pandas as pd\n",
        "import numpy as np\n",
        "from tensorflow.keras.applications import ResNet50\n",
        "from sklearn.model_selection import train_test_split\n",
        "from tensorflow.keras.layers import Dense, Flatten\n",
        "from tensorflow.keras.models import Model\n",
        "from tensorflow.keras.preprocessing.image import img_to_array, array_to_img\n",
        "from tensorflow.keras.models import Sequential"
      ],
      "metadata": {
        "id": "auccEj0D_Iju"
      },
      "execution_count": 15,
      "outputs": []
    },
    {
      "cell_type": "code",
      "source": [
        "data = pd.read_csv('/content/drive/MyDrive/Face_Dataset/fer2013.csv')"
      ],
      "metadata": {
        "id": "zixtRVfq_qlq"
      },
      "execution_count": 16,
      "outputs": []
    },
    {
      "cell_type": "markdown",
      "source": [
        "# Preprocess the pixel data and labels"
      ],
      "metadata": {
        "id": "Vn-IfIQI_9Rr"
      }
    },
    {
      "cell_type": "code",
      "source": [
        "pixels = data['pixels'].tolist()\n",
        "images = np.array([np.array(pixel.split(' ')).reshape(48, 48, 1).astype('float32') for pixel in pixels])\n",
        "images = np.repeat(images, 3, axis=-1)"
      ],
      "metadata": {
        "id": "gbIiF7U3_0V6"
      },
      "execution_count": 17,
      "outputs": []
    },
    {
      "cell_type": "code",
      "source": [
        "labels = pd.get_dummies(data['emotion']).values"
      ],
      "metadata": {
        "id": "VSHVnk-6K-Li"
      },
      "execution_count": 18,
      "outputs": []
    },
    {
      "cell_type": "markdown",
      "source": [
        "# Split the dataset into training, validation, and testing sets"
      ],
      "metadata": {
        "id": "yhSliJH2HPm0"
      }
    },
    {
      "cell_type": "code",
      "source": [
        "x_train, x_test, y_train, y_test = train_test_split(images, labels, test_size=0.2, random_state=42)\n",
        "x_train, x_val, y_train, y_val = train_test_split(x_train, y_train, test_size=0.2, random_state=42)"
      ],
      "metadata": {
        "id": "yOem8WpeHQmc"
      },
      "execution_count": 29,
      "outputs": []
    },
    {
      "cell_type": "markdown",
      "source": [],
      "metadata": {
        "id": "fP2YTxaWHkUF"
      }
    },
    {
      "cell_type": "markdown",
      "source": [
        "# Loading the ResNet50 model"
      ],
      "metadata": {
        "id": "LivYwOa-AvD6"
      }
    },
    {
      "cell_type": "code",
      "source": [
        "resnet = ResNet50(weights='imagenet', include_top=False, input_shape=(48, 48, 3))"
      ],
      "metadata": {
        "id": "MN92Oh3lA4yT"
      },
      "execution_count": 30,
      "outputs": []
    },
    {
      "cell_type": "code",
      "source": [
        "model = Sequential()"
      ],
      "metadata": {
        "id": "VX2D-0ksYrt5"
      },
      "execution_count": 31,
      "outputs": []
    },
    {
      "cell_type": "code",
      "source": [
        "model.add(resnet)"
      ],
      "metadata": {
        "id": "lt1ognmCYt8x"
      },
      "execution_count": 32,
      "outputs": []
    },
    {
      "cell_type": "code",
      "source": [
        "model.add(Flatten())"
      ],
      "metadata": {
        "id": "qLK-UwC0YumE"
      },
      "execution_count": 33,
      "outputs": []
    },
    {
      "cell_type": "code",
      "source": [
        "model.add(Dense(256, activation='relu'))\n",
        "model.add(Dense(128, activation='relu'))\n",
        "model.add(Dense(64, activation='relu'))\n",
        "model.add(Dense(32, activation='relu'))\n",
        "model.add(Dense(16, activation='relu'))\n",
        "model.add(Dense(8, activation='relu'))"
      ],
      "metadata": {
        "id": "I_1EbwrkYwNr"
      },
      "execution_count": 42,
      "outputs": []
    },
    {
      "cell_type": "code",
      "source": [
        "model.add(Dense(7, activation='softmax'))"
      ],
      "metadata": {
        "id": "CTckI7PeY_GJ"
      },
      "execution_count": 43,
      "outputs": []
    },
    {
      "cell_type": "markdown",
      "source": [
        "# Compiling model"
      ],
      "metadata": {
        "id": "dNf4TPqxBHF9"
      }
    },
    {
      "cell_type": "code",
      "source": [
        "model.compile(optimizer='adam', loss='categorical_crossentropy', metrics=['accuracy'])"
      ],
      "metadata": {
        "id": "BWGxS9PzBKU2"
      },
      "execution_count": 44,
      "outputs": []
    },
    {
      "cell_type": "markdown",
      "source": [
        "Training the model"
      ],
      "metadata": {
        "id": "H6H6RW2fBPIJ"
      }
    },
    {
      "cell_type": "code",
      "source": [
        "model.fit(x_train, y_train, epochs=19, batch_size=128, validation_data=(x_val, y_val))"
      ],
      "metadata": {
        "colab": {
          "base_uri": "https://localhost:8080/"
        },
        "id": "Cw2iGYp1BTC2",
        "outputId": "e2697e50-3f76-41eb-feaf-7dc938b5fd35"
      },
      "execution_count": 47,
      "outputs": [
        {
          "output_type": "stream",
          "name": "stdout",
          "text": [
            "Epoch 1/19\n",
            "180/180 [==============================] - 19s 106ms/step - loss: 0.0700 - accuracy: 0.9804 - val_loss: 2.3316 - val_accuracy: 0.5815\n",
            "Epoch 2/19\n",
            "180/180 [==============================] - 19s 107ms/step - loss: 0.0502 - accuracy: 0.9851 - val_loss: 2.4538 - val_accuracy: 0.5806\n",
            "Epoch 3/19\n",
            "180/180 [==============================] - 19s 107ms/step - loss: 0.0434 - accuracy: 0.9882 - val_loss: 2.4353 - val_accuracy: 0.5820\n",
            "Epoch 4/19\n",
            "180/180 [==============================] - 19s 107ms/step - loss: 0.0458 - accuracy: 0.9879 - val_loss: 2.4651 - val_accuracy: 0.5834\n",
            "Epoch 5/19\n",
            "180/180 [==============================] - 19s 107ms/step - loss: 0.0356 - accuracy: 0.9897 - val_loss: 2.6596 - val_accuracy: 0.5803\n",
            "Epoch 6/19\n",
            "180/180 [==============================] - 19s 108ms/step - loss: 0.0390 - accuracy: 0.9888 - val_loss: 2.5977 - val_accuracy: 0.5742\n",
            "Epoch 7/19\n",
            "180/180 [==============================] - 19s 108ms/step - loss: 0.0454 - accuracy: 0.9873 - val_loss: 2.5375 - val_accuracy: 0.5390\n",
            "Epoch 8/19\n",
            "180/180 [==============================] - 19s 108ms/step - loss: 0.0443 - accuracy: 0.9867 - val_loss: 2.3722 - val_accuracy: 0.5716\n",
            "Epoch 9/19\n",
            "180/180 [==============================] - 20s 109ms/step - loss: 0.0432 - accuracy: 0.9867 - val_loss: 2.8547 - val_accuracy: 0.5718\n",
            "Epoch 10/19\n",
            "180/180 [==============================] - 20s 109ms/step - loss: 0.0438 - accuracy: 0.9866 - val_loss: 2.6427 - val_accuracy: 0.5651\n",
            "Epoch 11/19\n",
            "180/180 [==============================] - 20s 111ms/step - loss: 0.0574 - accuracy: 0.9834 - val_loss: 2.5402 - val_accuracy: 0.5756\n",
            "Epoch 12/19\n",
            "180/180 [==============================] - 20s 109ms/step - loss: 0.0384 - accuracy: 0.9882 - val_loss: 2.5035 - val_accuracy: 0.5827\n",
            "Epoch 13/19\n",
            "180/180 [==============================] - 20s 110ms/step - loss: 0.0416 - accuracy: 0.9872 - val_loss: 2.5148 - val_accuracy: 0.5592\n",
            "Epoch 14/19\n",
            "180/180 [==============================] - 20s 109ms/step - loss: 0.0505 - accuracy: 0.9848 - val_loss: 2.4578 - val_accuracy: 0.5707\n",
            "Epoch 15/19\n",
            "180/180 [==============================] - 20s 110ms/step - loss: 0.0400 - accuracy: 0.9870 - val_loss: 2.5466 - val_accuracy: 0.5742\n",
            "Epoch 16/19\n",
            "180/180 [==============================] - 20s 110ms/step - loss: 0.0523 - accuracy: 0.9848 - val_loss: 2.5262 - val_accuracy: 0.5784\n",
            "Epoch 17/19\n",
            "180/180 [==============================] - 20s 110ms/step - loss: 0.0372 - accuracy: 0.9883 - val_loss: 2.7662 - val_accuracy: 0.5831\n",
            "Epoch 18/19\n",
            "180/180 [==============================] - 20s 110ms/step - loss: 0.0340 - accuracy: 0.9888 - val_loss: 2.5192 - val_accuracy: 0.5679\n",
            "Epoch 19/19\n",
            "180/180 [==============================] - 20s 110ms/step - loss: 0.0288 - accuracy: 0.9913 - val_loss: 2.7346 - val_accuracy: 0.5791\n"
          ]
        },
        {
          "output_type": "execute_result",
          "data": {
            "text/plain": [
              "<keras.callbacks.History at 0x7f5d5c126d40>"
            ]
          },
          "metadata": {},
          "execution_count": 47
        }
      ]
    },
    {
      "cell_type": "markdown",
      "source": [
        "Accuracy"
      ],
      "metadata": {
        "id": "Olw35n81BXfD"
      }
    },
    {
      "cell_type": "code",
      "source": [
        "test_loss, test_acc = model.evaluate(x_test, y_test)\n",
        "print('Test Accuracy:', test_acc)"
      ],
      "metadata": {
        "colab": {
          "base_uri": "https://localhost:8080/"
        },
        "id": "EXNt6tbqBYg5",
        "outputId": "cdd7eb3b-196c-4a1a-dc51-a82b0dd99beb"
      },
      "execution_count": 48,
      "outputs": [
        {
          "output_type": "stream",
          "name": "stdout",
          "text": [
            "225/225 [==============================] - 3s 14ms/step - loss: 2.8112 - accuracy: 0.5736\n",
            "Test Accuracy: 0.5735580921173096\n"
          ]
        }
      ]
    }
  ]
}