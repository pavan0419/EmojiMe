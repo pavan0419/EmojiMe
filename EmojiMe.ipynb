{
  "nbformat": 4,
  "nbformat_minor": 0,
  "metadata": {
    "colab": {
      "provenance": [],
      "gpuType": "T4",
      "mount_file_id": "1kn7whwM8tYvxmqb-yFsk_FBclKzU5Fa6",
      "authorship_tag": "ABX9TyM9/Ibce1exdpDNCWZGqPmr",
      "include_colab_link": true
    },
    "kernelspec": {
      "name": "python3",
      "display_name": "Python 3"
    },
    "language_info": {
      "name": "python"
    },
    "accelerator": "GPU"
  },
  "cells": [
    {
      "cell_type": "markdown",
      "metadata": {
        "id": "view-in-github",
        "colab_type": "text"
      },
      "source": [
        "<a href=\"https://colab.research.google.com/github/pavan0419/EmojiMe/blob/main/EmojiMe.ipynb\" target=\"_parent\"><img src=\"https://colab.research.google.com/assets/colab-badge.svg\" alt=\"Open In Colab\"/></a>"
      ]
    },
    {
      "cell_type": "code",
      "source": [
        "import pandas as pd\n",
        "import numpy as np\n",
        "from tensorflow.keras.applications import ResNet50\n",
        "from sklearn.model_selection import train_test_split\n",
        "from tensorflow.keras.layers import Dense, Flatten\n",
        "from tensorflow.keras.models import Model\n",
        "from tensorflow.keras.preprocessing.image import img_to_array, array_to_img\n",
        "from tensorflow.keras.models import Sequential"
      ],
      "metadata": {
        "id": "auccEj0D_Iju"
      },
      "execution_count": null,
      "outputs": []
    },
    {
      "cell_type": "code",
      "source": [
        "data = pd.read_csv('/content/drive/MyDrive/Face_Dataset/fer2013.csv')"
      ],
      "metadata": {
        "id": "zixtRVfq_qlq"
      },
      "execution_count": null,
      "outputs": []
    },
    {
      "cell_type": "markdown",
      "source": [
        "# Preprocess the pixel data and labels"
      ],
      "metadata": {
        "id": "Vn-IfIQI_9Rr"
      }
    },
    {
      "cell_type": "code",
      "source": [
        "pixels = data['pixels'].tolist()\n",
        "images = np.array([np.array(pixel.split(' ')).reshape(48, 48, 1).astype('float32') for pixel in pixels])\n",
        "images = np.repeat(images, 3, axis=-1)"
      ],
      "metadata": {
        "id": "gbIiF7U3_0V6"
      },
      "execution_count": null,
      "outputs": []
    },
    {
      "cell_type": "code",
      "source": [
        "labels = pd.get_dummies(data['emotion']).values"
      ],
      "metadata": {
        "id": "VSHVnk-6K-Li"
      },
      "execution_count": null,
      "outputs": []
    },
    {
      "cell_type": "markdown",
      "source": [
        "# Split the dataset into training, validation, and testing sets"
      ],
      "metadata": {
        "id": "yhSliJH2HPm0"
      }
    },
    {
      "cell_type": "code",
      "source": [
        "x_train, x_test, y_train, y_test = train_test_split(images, labels, test_size=0.2, random_state=42)\n",
        "x_train, x_val, y_train, y_val = train_test_split(x_train, y_train, test_size=0.2, random_state=42)"
      ],
      "metadata": {
        "id": "yOem8WpeHQmc"
      },
      "execution_count": null,
      "outputs": []
    },
    {
      "cell_type": "markdown",
      "source": [],
      "metadata": {
        "id": "fP2YTxaWHkUF"
      }
    },
    {
      "cell_type": "markdown",
      "source": [
        "# Loading the ResNet50 model"
      ],
      "metadata": {
        "id": "LivYwOa-AvD6"
      }
    },
    {
      "cell_type": "code",
      "source": [
        "resnet = ResNet50(weights='imagenet', include_top=False, input_shape=(48, 48, 3))"
      ],
      "metadata": {
        "id": "MN92Oh3lA4yT"
      },
      "execution_count": null,
      "outputs": []
    },
    {
      "cell_type": "code",
      "source": [
        "model = Sequential()"
      ],
      "metadata": {
        "id": "VX2D-0ksYrt5"
      },
      "execution_count": null,
      "outputs": []
    },
    {
      "cell_type": "code",
      "source": [
        "model.add(resnet)"
      ],
      "metadata": {
        "id": "lt1ognmCYt8x"
      },
      "execution_count": null,
      "outputs": []
    },
    {
      "cell_type": "code",
      "source": [
        "model.add(Flatten())"
      ],
      "metadata": {
        "id": "qLK-UwC0YumE"
      },
      "execution_count": null,
      "outputs": []
    },
    {
      "cell_type": "code",
      "source": [
        "model.add(Dense(256, activation='relu'))\n",
        "model.add(Dense(128, activation='relu'))\n",
        "model.add(Dense(64, activation='relu'))"
      ],
      "metadata": {
        "id": "I_1EbwrkYwNr"
      },
      "execution_count": null,
      "outputs": []
    },
    {
      "cell_type": "code",
      "source": [
        "model.add(Dense(7, activation='softmax'))"
      ],
      "metadata": {
        "id": "CTckI7PeY_GJ"
      },
      "execution_count": null,
      "outputs": []
    },
    {
      "cell_type": "code",
      "source": [],
      "metadata": {
        "id": "sL6M_B-VZBC9"
      },
      "execution_count": null,
      "outputs": []
    },
    {
      "cell_type": "markdown",
      "source": [
        "# Compiling model"
      ],
      "metadata": {
        "id": "dNf4TPqxBHF9"
      }
    },
    {
      "cell_type": "code",
      "source": [
        "model.compile(optimizer='adam', loss='categorical_crossentropy', metrics=['accuracy'])"
      ],
      "metadata": {
        "id": "BWGxS9PzBKU2"
      },
      "execution_count": null,
      "outputs": []
    },
    {
      "cell_type": "markdown",
      "source": [
        "Training the model"
      ],
      "metadata": {
        "id": "H6H6RW2fBPIJ"
      }
    },
    {
      "cell_type": "code",
      "source": [
        "model.fit(x_train, y_train, epochs=10, batch_size=32, validation_data=(x_val, y_val))"
      ],
      "metadata": {
        "colab": {
          "base_uri": "https://localhost:8080/"
        },
        "id": "Cw2iGYp1BTC2",
        "outputId": "4f10ae21-6ca7-43a3-e6f9-b174132d6403"
      },
      "execution_count": null,
      "outputs": [
        {
          "output_type": "stream",
          "name": "stdout",
          "text": [
            "Epoch 1/10\n",
            "718/718 [==============================] - 78s 53ms/step - loss: 1.5135 - accuracy: 0.4233 - val_loss: 1.5968 - val_accuracy: 0.3791\n",
            "Epoch 2/10\n",
            "718/718 [==============================] - 37s 51ms/step - loss: 1.2919 - accuracy: 0.5161 - val_loss: 1.3783 - val_accuracy: 0.4709\n",
            "Epoch 3/10\n",
            "718/718 [==============================] - 37s 52ms/step - loss: 1.1828 - accuracy: 0.5558 - val_loss: 1.3667 - val_accuracy: 0.4885\n",
            "Epoch 4/10\n",
            "718/718 [==============================] - 37s 51ms/step - loss: 1.1061 - accuracy: 0.5850 - val_loss: 1.3167 - val_accuracy: 0.5131\n",
            "Epoch 5/10\n",
            "718/718 [==============================] - 36s 49ms/step - loss: 1.0309 - accuracy: 0.6149 - val_loss: 1.3046 - val_accuracy: 0.5148\n",
            "Epoch 6/10\n",
            "718/718 [==============================] - 37s 51ms/step - loss: 0.9484 - accuracy: 0.6474 - val_loss: 1.3165 - val_accuracy: 0.5493\n",
            "Epoch 7/10\n",
            "718/718 [==============================] - 37s 51ms/step - loss: 0.8584 - accuracy: 0.6852 - val_loss: 1.3271 - val_accuracy: 0.5434\n",
            "Epoch 8/10\n",
            "718/718 [==============================] - 36s 50ms/step - loss: 0.7737 - accuracy: 0.7164 - val_loss: 1.3614 - val_accuracy: 0.5418\n",
            "Epoch 9/10\n",
            "718/718 [==============================] - 36s 50ms/step - loss: 0.6820 - accuracy: 0.7506 - val_loss: 1.3281 - val_accuracy: 0.5639\n",
            "Epoch 10/10\n",
            "718/718 [==============================] - 37s 51ms/step - loss: 0.5939 - accuracy: 0.7860 - val_loss: 1.4401 - val_accuracy: 0.5423\n"
          ]
        },
        {
          "output_type": "execute_result",
          "data": {
            "text/plain": [
              "<keras.callbacks.History at 0x7fd6d6143700>"
            ]
          },
          "metadata": {},
          "execution_count": 24
        }
      ]
    },
    {
      "cell_type": "markdown",
      "source": [
        "Accuracy"
      ],
      "metadata": {
        "id": "Olw35n81BXfD"
      }
    },
    {
      "cell_type": "code",
      "source": [
        "test_loss, test_acc = model.evaluate(x_test, y_test)\n",
        "print('Test Accuracy:', test_acc)"
      ],
      "metadata": {
        "colab": {
          "base_uri": "https://localhost:8080/"
        },
        "id": "EXNt6tbqBYg5",
        "outputId": "2aeb23ac-a503-4b28-8a44-b74fa4444109"
      },
      "execution_count": null,
      "outputs": [
        {
          "output_type": "stream",
          "name": "stdout",
          "text": [
            "225/225 [==============================] - 4s 16ms/step - loss: 1.4337 - accuracy: 0.5454\n",
            "Test Accuracy: 0.545416533946991\n"
          ]
        }
      ]
    }
  ]
}